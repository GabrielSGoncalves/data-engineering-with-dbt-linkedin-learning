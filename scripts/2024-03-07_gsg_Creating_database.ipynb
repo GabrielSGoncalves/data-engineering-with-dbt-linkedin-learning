{
 "cells": [
  {
   "cell_type": "markdown",
   "id": "d83247de-12e6-4867-a219-f2cfa480c2b0",
   "metadata": {},
   "source": [
    "## Creating a Database with DuckDB\n",
    "In this notebook, we are going to create a local database with DuckDB.\n"
   ]
  },
  {
   "cell_type": "code",
   "execution_count": 3,
   "id": "d440b4fd-2d80-4fe1-b903-adef603faf2a",
   "metadata": {},
   "outputs": [],
   "source": [
    "import duckdb\n",
    "import pandas"
   ]
  },
  {
   "cell_type": "code",
   "execution_count": 13,
   "id": "e5726731-1375-4bab-af0a-11ccef1e59b3",
   "metadata": {},
   "outputs": [
    {
     "data": {
      "text/plain": [
       "'/home/gabriel/Documents/Repositories/data-engineering-with-dbt-linkedin-learning/scripts'"
      ]
     },
     "execution_count": 13,
     "metadata": {},
     "output_type": "execute_result"
    }
   ],
   "source": [
    "pwd"
   ]
  },
  {
   "cell_type": "markdown",
   "id": "b37a3101-1e00-4d14-ab42-4c3ab50b9592",
   "metadata": {},
   "source": [
    "## Creating an empty database\n",
    "With the command bellow, we are going to create a database called `nyc_parking_violations` on our local `/data' folder."
   ]
  },
  {
   "cell_type": "code",
   "execution_count": 8,
   "id": "0badc9f6-b1f9-4606-940a-7c10c856a5ec",
   "metadata": {},
   "outputs": [
    {
     "data": {
      "text/html": [
       "<div>\n",
       "<style scoped>\n",
       "    .dataframe tbody tr th:only-of-type {\n",
       "        vertical-align: middle;\n",
       "    }\n",
       "\n",
       "    .dataframe tbody tr th {\n",
       "        vertical-align: top;\n",
       "    }\n",
       "\n",
       "    .dataframe thead th {\n",
       "        text-align: right;\n",
       "    }\n",
       "</style>\n",
       "<table border=\"1\" class=\"dataframe\">\n",
       "  <thead>\n",
       "    <tr style=\"text-align: right;\">\n",
       "      <th></th>\n",
       "      <th>name</th>\n",
       "    </tr>\n",
       "  </thead>\n",
       "  <tbody>\n",
       "  </tbody>\n",
       "</table>\n",
       "</div>"
      ],
      "text/plain": [
       "Empty DataFrame\n",
       "Columns: [name]\n",
       "Index: []"
      ]
     },
     "metadata": {},
     "output_type": "display_data"
    }
   ],
   "source": [
    "sql_query = '''\n",
    "show tables\n",
    "'''\n",
    "\n",
    "with duckdb.connect('../data/nyc_parking_violations.db') as con:\n",
    "    display(con.sql(sql_query).df())"
   ]
  },
  {
   "cell_type": "markdown",
   "id": "fc794491-bcf6-4f59-a830-f15d0a13fb3a",
   "metadata": {},
   "source": [
    "## Populating the Database\n",
    "With the database created, we can populate it with datasets downloaded from NYC Parking Violations."
   ]
  },
  {
   "cell_type": "code",
   "execution_count": 14,
   "id": "b50244cc-ee36-4b8d-92d8-c2a7384ed74f",
   "metadata": {},
   "outputs": [],
   "source": [
    "sql_query_import_1 = '''\n",
    "CREATE OR REPLACE TABLE parking_violation_codes AS\n",
    "SELECT *\n",
    "FROM read_csv_auto(\n",
    "'../data/dof_parking_violation_codes.csv',\n",
    "normalize_names=True\n",
    ")\n",
    "'''\n",
    "\n",
    "sql_query_import_2 = '''\n",
    "CREATE OR REPLACE TABLE parking_violations_2023 AS\n",
    "SELECT *\n",
    "FROM read_csv_auto(\n",
    "'../data/parking_violations_issued_fiscal_year_2023_sample.csv',\n",
    "normalize_names=True\n",
    ")\n",
    "'''\n",
    "\n",
    "with duckdb.connect('../data/nyc_parking_violations.db') as con:\n",
    "    con.sql(sql_query_import_1)\n",
    "    con.sql(sql_query_import_2)"
   ]
  },
  {
   "cell_type": "code",
   "execution_count": 15,
   "id": "56ed8aac-627d-43e4-bc22-2ef5dd740bfc",
   "metadata": {},
   "outputs": [
    {
     "data": {
      "text/html": [
       "<div>\n",
       "<style scoped>\n",
       "    .dataframe tbody tr th:only-of-type {\n",
       "        vertical-align: middle;\n",
       "    }\n",
       "\n",
       "    .dataframe tbody tr th {\n",
       "        vertical-align: top;\n",
       "    }\n",
       "\n",
       "    .dataframe thead th {\n",
       "        text-align: right;\n",
       "    }\n",
       "</style>\n",
       "<table border=\"1\" class=\"dataframe\">\n",
       "  <thead>\n",
       "    <tr style=\"text-align: right;\">\n",
       "      <th></th>\n",
       "      <th>name</th>\n",
       "    </tr>\n",
       "  </thead>\n",
       "  <tbody>\n",
       "    <tr>\n",
       "      <th>0</th>\n",
       "      <td>parking_violation_codes</td>\n",
       "    </tr>\n",
       "    <tr>\n",
       "      <th>1</th>\n",
       "      <td>parking_violations_2023</td>\n",
       "    </tr>\n",
       "  </tbody>\n",
       "</table>\n",
       "</div>"
      ],
      "text/plain": [
       "                      name\n",
       "0  parking_violation_codes\n",
       "1  parking_violations_2023"
      ]
     },
     "metadata": {},
     "output_type": "display_data"
    }
   ],
   "source": [
    "sql_query = '''\n",
    "show tables\n",
    "'''\n",
    "\n",
    "with duckdb.connect('../data/nyc_parking_violations.db') as con:\n",
    "    display(con.sql(sql_query).df())"
   ]
  },
  {
   "cell_type": "markdown",
   "id": "8c40b878-b850-4377-a400-1440e85f2d84",
   "metadata": {},
   "source": [
    "### Checking for updated tables\n"
   ]
  },
  {
   "cell_type": "code",
   "execution_count": 16,
   "id": "68e029d8-0d0b-4c05-83f0-a0365f4e0b81",
   "metadata": {},
   "outputs": [
    {
     "data": {
      "text/html": [
       "<div>\n",
       "<style scoped>\n",
       "    .dataframe tbody tr th:only-of-type {\n",
       "        vertical-align: middle;\n",
       "    }\n",
       "\n",
       "    .dataframe tbody tr th {\n",
       "        vertical-align: top;\n",
       "    }\n",
       "\n",
       "    .dataframe thead th {\n",
       "        text-align: right;\n",
       "    }\n",
       "</style>\n",
       "<table border=\"1\" class=\"dataframe\">\n",
       "  <thead>\n",
       "    <tr style=\"text-align: right;\">\n",
       "      <th></th>\n",
       "      <th>code</th>\n",
       "      <th>definition</th>\n",
       "      <th>manhattan_96th_st_below</th>\n",
       "      <th>all_other_areas</th>\n",
       "    </tr>\n",
       "  </thead>\n",
       "  <tbody>\n",
       "    <tr>\n",
       "      <th>0</th>\n",
       "      <td>1</td>\n",
       "      <td>FAILURE TO DISPLAY BUS PERMIT</td>\n",
       "      <td>515</td>\n",
       "      <td>515</td>\n",
       "    </tr>\n",
       "    <tr>\n",
       "      <th>1</th>\n",
       "      <td>2</td>\n",
       "      <td>NO OPERATOR NAM/ADD/PH DISPLAY</td>\n",
       "      <td>515</td>\n",
       "      <td>515</td>\n",
       "    </tr>\n",
       "    <tr>\n",
       "      <th>2</th>\n",
       "      <td>3</td>\n",
       "      <td>UNAUTHORIZED PASSENGER PICK-UP</td>\n",
       "      <td>515</td>\n",
       "      <td>515</td>\n",
       "    </tr>\n",
       "    <tr>\n",
       "      <th>3</th>\n",
       "      <td>4</td>\n",
       "      <td>BUS PARKING IN LOWER MANHATTAN</td>\n",
       "      <td>115</td>\n",
       "      <td>115</td>\n",
       "    </tr>\n",
       "    <tr>\n",
       "      <th>4</th>\n",
       "      <td>5</td>\n",
       "      <td>BUS LANE VIOLATION</td>\n",
       "      <td>250</td>\n",
       "      <td>250</td>\n",
       "    </tr>\n",
       "  </tbody>\n",
       "</table>\n",
       "</div>"
      ],
      "text/plain": [
       "   code                      definition  manhattan_96th_st_below  \\\n",
       "0     1   FAILURE TO DISPLAY BUS PERMIT                      515   \n",
       "1     2  NO OPERATOR NAM/ADD/PH DISPLAY                      515   \n",
       "2     3  UNAUTHORIZED PASSENGER PICK-UP                      515   \n",
       "3     4  BUS PARKING IN LOWER MANHATTAN                      115   \n",
       "4     5              BUS LANE VIOLATION                      250   \n",
       "\n",
       "   all_other_areas  \n",
       "0              515  \n",
       "1              515  \n",
       "2              515  \n",
       "3              115  \n",
       "4              250  "
      ]
     },
     "metadata": {},
     "output_type": "display_data"
    }
   ],
   "source": [
    "sql_query = '''\n",
    "SELECT * \n",
    "FROM parking_violation_codes\n",
    "LIMIT 5\n",
    "'''\n",
    "\n",
    "with duckdb.connect('../data/nyc_parking_violations.db') as con:\n",
    "    display(con.sql(sql_query).df())"
   ]
  },
  {
   "cell_type": "code",
   "execution_count": null,
   "id": "63eb5c59-035e-476e-a980-1f22f600e14b",
   "metadata": {},
   "outputs": [],
   "source": []
  }
 ],
 "metadata": {
  "kernelspec": {
   "display_name": "Python 3 (ipykernel)",
   "language": "python",
   "name": "python3"
  },
  "language_info": {
   "codemirror_mode": {
    "name": "ipython",
    "version": 3
   },
   "file_extension": ".py",
   "mimetype": "text/x-python",
   "name": "python",
   "nbconvert_exporter": "python",
   "pygments_lexer": "ipython3",
   "version": "3.10.12"
  }
 },
 "nbformat": 4,
 "nbformat_minor": 5
}
